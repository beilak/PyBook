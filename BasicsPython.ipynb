{
  "cells": [
    {
      "cell_type": "markdown",
      "metadata": {
        "id": "aN-xtR_TrFfA"
      },
      "source": [
        "# Basics Python"
      ]
    },
    {
      "attachments": {},
      "cell_type": "markdown",
      "metadata": {
        "id": "SmZryW6ErFfC"
      },
      "source": [
        "## 1. Data Type"
      ]
    },
    {
      "cell_type": "markdown",
      "metadata": {
        "id": "NVrFoZ2HrFfC"
      },
      "source": [
        "### Int"
      ]
    },
    {
      "cell_type": "code",
      "execution_count": 1,
      "metadata": {
        "id": "MQuvLnN6rFfD"
      },
      "outputs": [],
      "source": [
        "# int\n",
        "i1 = 1\n",
        "i2 = 10\n",
        "i3 = -1000\n",
        "i4 = int(1000)\n",
        "i5 = int(\"1000\")\n"
      ]
    },
    {
      "cell_type": "code",
      "execution_count": 2,
      "metadata": {
        "colab": {
          "base_uri": "https://localhost:8080/"
        },
        "id": "VtC2i646rFfE",
        "outputId": "9bfee370-c795-41b3-90ec-530a61c07fdf"
      },
      "outputs": [
        {
          "name": "stdout",
          "output_type": "stream",
          "text": [
            "i1 = 1\n",
            "i2 = 10\n",
            "i5 = 1000\n"
          ]
        }
      ],
      "source": [
        "print(f\"{i1 = }\")\n",
        "print(f\"{i2 = }\")\n",
        "print(f\"{i5 = }\")\n"
      ]
    },
    {
      "cell_type": "markdown",
      "metadata": {
        "id": "sDMJftTNrFfE"
      },
      "source": [
        "### Float"
      ]
    },
    {
      "cell_type": "code",
      "execution_count": 3,
      "metadata": {
        "id": "xTqbThuarFfE"
      },
      "outputs": [],
      "source": [
        "# float\n",
        "f1 = 10.10\n",
        "f2 = 0.000001\n",
        "f3 = float(10)"
      ]
    },
    {
      "cell_type": "code",
      "execution_count": 4,
      "metadata": {
        "colab": {
          "base_uri": "https://localhost:8080/"
        },
        "id": "GsGS6diyrFfF",
        "outputId": "21e3f2e0-e1dd-4b32-fe49-19167a867365"
      },
      "outputs": [
        {
          "name": "stdout",
          "output_type": "stream",
          "text": [
            "f1 = 10.1\n",
            "f2 = 1e-06\n",
            "f3 = 10.0\n"
          ]
        }
      ],
      "source": [
        "print(f\"{f1 = }\")\n",
        "print(f\"{f2 = }\")\n",
        "print(f\"{f3 = }\")\n"
      ]
    },
    {
      "cell_type": "markdown",
      "metadata": {
        "id": "4WPlARMhrFfG"
      },
      "source": [
        "### String"
      ]
    },
    {
      "cell_type": "code",
      "execution_count": 8,
      "metadata": {
        "id": "zQBHye3UrFfG"
      },
      "outputs": [],
      "source": [
        "s1 = \"My Text\"\n",
        "s2 = 'It is text'\n",
        "s3 = f\"my text with {i1}\"\n",
        "s4 = f\" s1 has type - {type(s1)}\""
      ]
    },
    {
      "cell_type": "code",
      "execution_count": 9,
      "metadata": {
        "colab": {
          "base_uri": "https://localhost:8080/"
        },
        "id": "nHo84hBWrFfG",
        "outputId": "811a85ab-d81e-428d-d30d-a11a6e20eb1b"
      },
      "outputs": [
        {
          "name": "stdout",
          "output_type": "stream",
          "text": [
            "s1 = 'My Text'\n",
            "s2 = 'It is text'\n",
            "s3 = 'my text with 1'\n",
            "s4 = \" s1 has type - <class 'str'>\"\n"
          ]
        }
      ],
      "source": [
        "print(f\"{s1 = }\")\n",
        "print(f\"{s2 = }\")\n",
        "print(f\"{s3 = }\")\n",
        "print(f\"{s4 = }\")"
      ]
    },
    {
      "cell_type": "markdown",
      "metadata": {
        "id": "J_r1NZV9rFfH"
      },
      "source": [
        "### List"
      ]
    },
    {
      "cell_type": "code",
      "execution_count": 33,
      "metadata": {
        "id": "uo0EelHXrFfH"
      },
      "outputs": [],
      "source": [
        "my_list1 = [1, 2, 3, 4, 5]\n",
        "my_list2 = [\"A\", \"B\", \"C\", my_list1]\n",
        "my_list3 = [\"A\", \"B\", 1, 2, 3, 4, 5, 9.0]"
      ]
    },
    {
      "cell_type": "code",
      "execution_count": 34,
      "metadata": {
        "colab": {
          "base_uri": "https://localhost:8080/"
        },
        "id": "hDipvCd4rFfH",
        "outputId": "81ea46ec-714a-4cb0-d280-713cc80311e8"
      },
      "outputs": [
        {
          "name": "stdout",
          "output_type": "stream",
          "text": [
            "my_list1 = [1, 2, 3, 4, 5]\n",
            "my_list2 = ['A', 'B', 'C', [1, 2, 3, 4, 5]]\n",
            "my_list3 = ['A', 'B', 1, 2, 3, 4, 5, 9.0]\n",
            "<class 'list'>\n"
          ]
        }
      ],
      "source": [
        "print(f\"{my_list1 = }\")\n",
        "print(f\"{my_list2 = }\")\n",
        "print(f\"{my_list3 = }\")\n",
        "print(type(my_list1))"
      ]
    },
    {
      "cell_type": "markdown",
      "metadata": {
        "id": "Mt4L6YC0rFfH"
      },
      "source": [
        "### Set"
      ]
    },
    {
      "cell_type": "code",
      "execution_count": 10,
      "metadata": {
        "id": "ODdHTMZnrFfH"
      },
      "outputs": [],
      "source": [
        "my_set1 = {1, 2, 3, 4, 5, 5, 5, 5, 5}\n",
        "my_set2 = {'A', 'B', 'C'}\n",
        "my_set3 = {1, 2, 3, 'A', 'B', 'C'}\n",
        "my_set4 = {1, 'A', 3, 'B', 'C', 10.24}"
      ]
    },
    {
      "cell_type": "code",
      "execution_count": 11,
      "metadata": {
        "colab": {
          "base_uri": "https://localhost:8080/"
        },
        "id": "Bk9Ez0f6rFfI",
        "outputId": "4a55890d-4523-42be-a549-1b1ca0b67fca"
      },
      "outputs": [
        {
          "name": "stdout",
          "output_type": "stream",
          "text": [
            "my_set1 = {1, 2, 3, 4, 5}\n",
            "my_set2 = {'C', 'B', 'A'}\n",
            "my_set3 = {'B', 1, 2, 3, 'C', 'A'}\n",
            "my_set4 = {'B', 1, 3, 10.24, 'C', 'A'}\n"
          ]
        }
      ],
      "source": [
        "print(f\"{my_set1 = }\")\n",
        "print(f\"{my_set2 = }\")\n",
        "print(f\"{my_set3 = }\")\n",
        "print(f\"{my_set4 = }\")"
      ]
    },
    {
      "cell_type": "markdown",
      "metadata": {
        "id": "6NlclzUmrFfI"
      },
      "source": [
        "### Tuple"
      ]
    },
    {
      "cell_type": "code",
      "execution_count": 42,
      "metadata": {
        "id": "jWxhgjEYrFfI"
      },
      "outputs": [],
      "source": [
        "my_tuple = (1, 2, \"A\", \"B\", \"C\", 1)\n",
        "my_tuple_1 = 1, 2, \"A\", 1"
      ]
    },
    {
      "cell_type": "code",
      "execution_count": 44,
      "metadata": {
        "colab": {
          "base_uri": "https://localhost:8080/"
        },
        "id": "cQWndoiHrFfI",
        "outputId": "0b42326a-ba78-4078-f76a-ade7f00c222f"
      },
      "outputs": [
        {
          "name": "stdout",
          "output_type": "stream",
          "text": [
            "<class 'tuple'>\n",
            " my_tuple = (1, 2, 'A', 'B', 'C', 1)\n",
            " my_tuple_1 = (1, 2, 'A', 1)\n"
          ]
        }
      ],
      "source": [
        "print(type(my_tuple))\n",
        "print(f\"{ my_tuple = }\")\n",
        "print(f\"{ my_tuple_1 = }\")"
      ]
    },
    {
      "attachments": {},
      "cell_type": "markdown",
      "metadata": {
        "id": "er-UCYFPrFfJ"
      },
      "source": [
        "### Dictionary"
      ]
    },
    {
      "cell_type": "code",
      "execution_count": 22,
      "metadata": {
        "id": "V5Pip0eo6H74"
      },
      "outputs": [],
      "source": [
        "sales = {\n",
        "    \"Shop1\": 90,\n",
        "    \"Shop2\": 100,\n",
        "    \"Shop3\": 20,\n",
        "    \"Shop4\": 10\n",
        "}"
      ]
    },
    {
      "cell_type": "code",
      "execution_count": 23,
      "metadata": {
        "colab": {
          "base_uri": "https://localhost:8080/"
        },
        "id": "-XLvR4bj6Vz4",
        "outputId": "e0f72b5a-2361-4b0a-e90a-73239976fcc0"
      },
      "outputs": [
        {
          "name": "stdout",
          "output_type": "stream",
          "text": [
            " sales = {'Shop1': 90, 'Shop2': 100, 'Shop3': 20, 'Shop4': 10}\n",
            " sales['Shop2'] = 100\n"
          ]
        }
      ],
      "source": [
        "print(f\"{ sales = }\")\n",
        "print(f\"{ sales['Shop2'] = }\")"
      ]
    },
    {
      "cell_type": "markdown",
      "metadata": {
        "id": "joBrmiAdrFfJ"
      },
      "source": [
        "## 2. Operations"
      ]
    },
    {
      "attachments": {},
      "cell_type": "markdown",
      "metadata": {},
      "source": [
        "### 2.1 Arithmetic operations"
      ]
    },
    {
      "cell_type": "code",
      "execution_count": 25,
      "metadata": {
        "colab": {
          "base_uri": "https://localhost:8080/"
        },
        "id": "6D6SPNTDrFfJ",
        "outputId": "62d09989-5c67-413f-f764-db75732798c0"
      },
      "outputs": [
        {
          "name": "stdout",
          "output_type": "stream",
          "text": [
            " sum_2_ints = 100\n"
          ]
        }
      ],
      "source": [
        "i1 = 90 \n",
        "i2 = 10\n",
        "sum_2_ints = i1 + i2\n",
        "\n",
        "print(f\"{ sum_2_ints = }\")"
      ]
    },
    {
      "cell_type": "code",
      "execution_count": 29,
      "metadata": {
        "colab": {
          "base_uri": "https://localhost:8080/"
        },
        "id": "qJUCDT_OrFfK",
        "outputId": "5020a89a-bb6f-4738-a10e-eacf1d1db215"
      },
      "outputs": [
        {
          "name": "stdout",
          "output_type": "stream",
          "text": [
            " number_1 = 50.0\n"
          ]
        }
      ],
      "source": [
        "number_1 = 100\n",
        "number_1 = number_1 / 2\n",
        "\n",
        "print(f\"{ number_1 = }\")"
      ]
    },
    {
      "cell_type": "code",
      "execution_count": 31,
      "metadata": {
        "colab": {
          "base_uri": "https://localhost:8080/"
        },
        "id": "IQ_Abe7I8kOK",
        "outputId": "abffec9c-5078-470f-acd6-e96a794aa6b5"
      },
      "outputs": [
        {
          "data": {
            "text/plain": [
              "12.5"
            ]
          },
          "execution_count": 31,
          "metadata": {},
          "output_type": "execute_result"
        }
      ],
      "source": [
        "number_1 /= 2\n",
        "number_1"
      ]
    },
    {
      "cell_type": "code",
      "execution_count": 36,
      "metadata": {
        "colab": {
          "base_uri": "https://localhost:8080/"
        },
        "id": "jeHr0lOYrFfK",
        "outputId": "46b74a05-a3c0-4c57-fd60-64df36ece80f"
      },
      "outputs": [
        {
          "name": "stdout",
          "output_type": "stream",
          "text": [
            " multiply = 4\n"
          ]
        }
      ],
      "source": [
        "multiply = 2 * 2\n",
        "\n",
        "print(f\"{ multiply = }\")"
      ]
    },
    {
      "cell_type": "code",
      "execution_count": 41,
      "metadata": {
        "colab": {
          "base_uri": "https://localhost:8080/"
        },
        "id": "VJbTmjF6rFfK",
        "outputId": "dd1c69ca-f85c-4823-8803-4804e91ef7b6"
      },
      "outputs": [
        {
          "name": "stdout",
          "output_type": "stream",
          "text": [
            " sum_floats = 21.375\n"
          ]
        }
      ],
      "source": [
        "sum_floats = 10.25 + 11.125\n",
        "\n",
        "print(f\"{ sum_floats = }\")"
      ]
    },
    {
      "attachments": {},
      "cell_type": "markdown",
      "metadata": {},
      "source": [
        "### 2.2 List Operations"
      ]
    },
    {
      "cell_type": "code",
      "execution_count": 42,
      "metadata": {
        "colab": {
          "base_uri": "https://localhost:8080/"
        },
        "id": "YA0iaT3frFfK",
        "outputId": "85ea4767-8c1b-4768-b948-705e8595ee28"
      },
      "outputs": [
        {
          "name": "stdout",
          "output_type": "stream",
          "text": [
            " sum_2_list = [1, 2, 3, 4, 3, 4, 5, 'X']\n"
          ]
        }
      ],
      "source": [
        "list_1 = [1, 2, 3, 4]\n",
        "list_2 = [3, 4, 5, \"X\"]\n",
        "sum_2_list = list_1 + list_2\n",
        "\n",
        "print(f\"{ sum_2_list = }\")"
      ]
    },
    {
      "cell_type": "code",
      "execution_count": 47,
      "metadata": {
        "colab": {
          "base_uri": "https://localhost:8080/"
        },
        "id": "YcBTrsc7AAWs",
        "outputId": "f81060da-d878-4c08-f638-3ad7a3d96555"
      },
      "outputs": [
        {
          "name": "stdout",
          "output_type": "stream",
          "text": [
            " list_1 = [1, 2, 3, 4]\n",
            " list_1 = ['_New_', 2, 3, 4]\n",
            " list_1[2] = 3\n"
          ]
        }
      ],
      "source": [
        "list_1 = [1, 2, 3, 4]\n",
        "print(f\"{ list_1 = }\")\n",
        "\n",
        "list_1[0] = \"_New_\"\n",
        "print(f\"{ list_1 = }\")\n",
        "\n",
        "print(f\"{ list_1[2] = }\")\n"
      ]
    },
    {
      "cell_type": "code",
      "execution_count": 48,
      "metadata": {
        "colab": {
          "base_uri": "https://localhost:8080/"
        },
        "id": "3xGvcNjfCIdt",
        "outputId": "6d914e97-ab2a-439a-f31a-7514f485e3f0"
      },
      "outputs": [
        {
          "data": {
            "text/plain": [
              "9"
            ]
          },
          "execution_count": 48,
          "metadata": {},
          "output_type": "execute_result"
        }
      ],
      "source": [
        "list_1 = [1, 2, 3, 4]\n",
        "list_1[1] + list_1[2] + list_1[3]"
      ]
    },
    {
      "attachments": {},
      "cell_type": "markdown",
      "metadata": {},
      "source": [
        "### 2.3 Set Operations"
      ]
    },
    {
      "cell_type": "code",
      "execution_count": 49,
      "metadata": {
        "colab": {
          "base_uri": "https://localhost:8080/"
        },
        "id": "rOlb6AY0rFfL",
        "outputId": "bfd6a888-0d6e-4407-9546-79642a583f4e"
      },
      "outputs": [
        {
          "name": "stdout",
          "output_type": "stream",
          "text": [
            " new_set = {1, 2, 3, 4, 5, 6, 'C', 'A', 'D', 'B'}\n"
          ]
        }
      ],
      "source": [
        "set_1 = {\"A\", \"B\", \"C\", \"D\"}\n",
        "set_2 = {1, 2, 3, 4, 5, 6}\n",
        "\n",
        "new_set = set()\n",
        "\n",
        "new_set.update(set_1)\n",
        "new_set.update(set_2)\n",
        "\n",
        "\n",
        "print(f\"{ new_set = }\")\n"
      ]
    },
    {
      "cell_type": "code",
      "execution_count": 51,
      "metadata": {
        "colab": {
          "base_uri": "https://localhost:8080/"
        },
        "id": "LpvhlmoWEQbH",
        "outputId": "2beba5bf-73e1-4bd0-c5b5-ae87e380f274"
      },
      "outputs": [
        {
          "name": "stdout",
          "output_type": "stream",
          "text": [
            " my_new_list = [1234, 2, 3]\n",
            " my_new_tuple = (1, 2, 3)\n"
          ]
        }
      ],
      "source": [
        "my_new_list = [1, 2, 3]         # List\n",
        "my_new_tuple = (1, 2, 3)        # Tuple\n",
        "\n",
        "my_new_list[0] = 1234\n",
        "# my_new_tuple[0] = 1234    # NOT WORKING!!!! It's TUPLE\n",
        "\n",
        "print(f\"{ my_new_list = }\")\n",
        "print(f\"{ my_new_tuple = }\")"
      ]
    },
    {
      "cell_type": "code",
      "execution_count": 136,
      "metadata": {
        "colab": {
          "base_uri": "https://localhost:8080/"
        },
        "id": "ZfskuPUjrFfL",
        "outputId": "e97d97e2-7f23-45de-b799-40eecad60986"
      },
      "outputs": [
        {
          "data": {
            "text/plain": [
              "{'a': 1,\n",
              " 'b': 2,\n",
              " 'c': 3,\n",
              " 'd': 'MyText',\n",
              " 'e': 'Text_2',\n",
              " 'Name1': 1000,\n",
              " 'Name2': 2000,\n",
              " 'Name3': 3000}"
            ]
          },
          "execution_count": 136,
          "metadata": {},
          "output_type": "execute_result"
        }
      ],
      "source": [
        "dict_1 = {\n",
        "    \"a\" : 1,\n",
        "    \"b\" : 2,\n",
        "    \"c\" : 3,\n",
        "    \"d\": \"MyText\",\n",
        "    \"e\": \"Text_2\",\n",
        "}\n",
        "\n",
        "dict_2 = {\n",
        "    \"Name1\": 1000,\n",
        "    \"Name2\": 2000,\n",
        "    \"Name3\": 3000,\n",
        "}\n",
        "\n",
        "new_dict = dict()\n",
        "\n",
        "new_dict.update(dict_1) \n",
        "new_dict.update(dict_2)\n",
        "new_dict"
      ]
    },
    {
      "cell_type": "code",
      "execution_count": 132,
      "metadata": {
        "colab": {
          "base_uri": "https://localhost:8080/"
        },
        "id": "cepzZvr1GSCt",
        "outputId": "5d8132fc-c38c-4b58-d692-7e4100d9fdf7"
      },
      "outputs": [
        {
          "data": {
            "text/plain": [
              "3"
            ]
          },
          "execution_count": 132,
          "metadata": {},
          "output_type": "execute_result"
        }
      ],
      "source": [
        "new_dict[\"a\"] + new_dict[\"b\"]"
      ]
    },
    {
      "cell_type": "code",
      "execution_count": 143,
      "metadata": {
        "colab": {
          "base_uri": "https://localhost:8080/",
          "height": 35
        },
        "id": "gmB0dz-0GcDG",
        "outputId": "a4b3f413-3801-4ca7-b8c6-5403786b7760"
      },
      "outputs": [
        {
          "data": {
            "application/vnd.google.colaboratory.intrinsic+json": {
              "type": "string"
            },
            "text/plain": [
              "'MyTextText_2'"
            ]
          },
          "execution_count": 143,
          "metadata": {},
          "output_type": "execute_result"
        }
      ],
      "source": [
        "new_dict[\"d\"] + new_dict[\"e\"]"
      ]
    },
    {
      "cell_type": "code",
      "execution_count": 158,
      "metadata": {
        "id": "lO1k8aG5HL9N"
      },
      "outputs": [],
      "source": [
        "my_new_text = \"Some text 1234567\""
      ]
    },
    {
      "cell_type": "code",
      "execution_count": 159,
      "metadata": {
        "colab": {
          "base_uri": "https://localhost:8080/",
          "height": 35
        },
        "id": "XAYCNu4uHPrj",
        "outputId": "c394e1f1-f4f6-415d-9081-8732ae76fa83"
      },
      "outputs": [
        {
          "data": {
            "application/vnd.google.colaboratory.intrinsic+json": {
              "type": "string"
            },
            "text/plain": [
              "'Some text 1234567'"
            ]
          },
          "execution_count": 159,
          "metadata": {},
          "output_type": "execute_result"
        }
      ],
      "source": [
        "my_new_text"
      ]
    },
    {
      "cell_type": "code",
      "execution_count": 160,
      "metadata": {
        "colab": {
          "base_uri": "https://localhost:8080/",
          "height": 35
        },
        "id": "guQ4PISqH6xC",
        "outputId": "73c23259-d4eb-4433-cb62-91f36add8789"
      },
      "outputs": [
        {
          "data": {
            "application/vnd.google.colaboratory.intrinsic+json": {
              "type": "string"
            },
            "text/plain": [
              "'e te'"
            ]
          },
          "execution_count": 160,
          "metadata": {},
          "output_type": "execute_result"
        }
      ],
      "source": [
        "my_new_text[3:7]"
      ]
    },
    {
      "cell_type": "code",
      "execution_count": 161,
      "metadata": {
        "colab": {
          "base_uri": "https://localhost:8080/",
          "height": 35
        },
        "id": "m9h_zDZkH9vB",
        "outputId": "28e65dc7-8fb3-4612-d33b-e8caf253cb0c"
      },
      "outputs": [
        {
          "data": {
            "application/vnd.google.colaboratory.intrinsic+json": {
              "type": "string"
            },
            "text/plain": [
              "'Some text 1234'"
            ]
          },
          "execution_count": 161,
          "metadata": {},
          "output_type": "execute_result"
        }
      ],
      "source": [
        "my_new_text[0:-3]"
      ]
    },
    {
      "cell_type": "code",
      "execution_count": 162,
      "metadata": {
        "colab": {
          "base_uri": "https://localhost:8080/",
          "height": 35
        },
        "id": "DcAm43soHQ4v",
        "outputId": "b508f146-6181-42d7-e05a-9e97bfb05f24"
      },
      "outputs": [
        {
          "data": {
            "application/vnd.google.colaboratory.intrinsic+json": {
              "type": "string"
            },
            "text/plain": [
              "'7654321 txet emoS'"
            ]
          },
          "execution_count": 162,
          "metadata": {},
          "output_type": "execute_result"
        }
      ],
      "source": [
        "my_new_text[::-1]"
      ]
    },
    {
      "cell_type": "markdown",
      "metadata": {
        "id": "ITB_HWYBrFfL"
      },
      "source": [
        "## 3. Loops"
      ]
    },
    {
      "attachments": {},
      "cell_type": "markdown",
      "metadata": {
        "id": "zmF0cvAerFfL"
      },
      "source": [
        "### 3.1 For"
      ]
    },
    {
      "cell_type": "code",
      "execution_count": 52,
      "metadata": {
        "colab": {
          "base_uri": "https://localhost:8080/"
        },
        "id": "ItH3pwXhrFfL",
        "outputId": "f973cb42-c016-47c6-ca38-f7f7c222d181"
      },
      "outputs": [
        {
          "name": "stdout",
          "output_type": "stream",
          "text": [
            "1\n",
            "2\n",
            "3\n",
            "A\n",
            "B\n",
            "C\n"
          ]
        }
      ],
      "source": [
        "my_list = [1, 2, 3, \"A\", \"B\", \"C\"]\n",
        "for i in my_list:\n",
        "    print(i)"
      ]
    },
    {
      "cell_type": "code",
      "execution_count": 168,
      "metadata": {
        "colab": {
          "base_uri": "https://localhost:8080/"
        },
        "id": "yvgDO4oFrFfM",
        "outputId": "4b84aaa2-5486-455a-ebf8-bd56e2130f68"
      },
      "outputs": [
        {
          "name": "stdout",
          "output_type": "stream",
          "text": [
            "21\n"
          ]
        }
      ],
      "source": [
        "my_list = [1, 2, 3, 4, 5, 6]\n",
        "sum_of_list = 0\n",
        "for i in my_list:\n",
        "    sum_of_list = sum_of_list + i\n",
        "print(sum_of_list)\n"
      ]
    },
    {
      "cell_type": "code",
      "execution_count": 170,
      "metadata": {
        "colab": {
          "base_uri": "https://localhost:8080/"
        },
        "id": "wedG-rahrFfM",
        "outputId": "d0410ec1-c808-4d3c-f42b-8394a9dbd6c7"
      },
      "outputs": [
        {
          "name": "stdout",
          "output_type": "stream",
          "text": [
            "S\n",
            "o\n",
            "m\n",
            "e\n",
            " \n",
            "t\n",
            "e\n",
            "x\n",
            "t\n"
          ]
        }
      ],
      "source": [
        "my_text = \"Some text\"\n",
        "for i in my_text:\n",
        "    print(i)"
      ]
    },
    {
      "cell_type": "code",
      "execution_count": 54,
      "metadata": {
        "colab": {
          "base_uri": "https://localhost:8080/"
        },
        "id": "cbmvO-dZMIlE",
        "outputId": "ca3e480b-89f8-4a98-d651-7c09599eab8e"
      },
      "outputs": [
        {
          "name": "stdout",
          "output_type": "stream",
          "text": [
            "220\n"
          ]
        }
      ],
      "source": [
        "sales = {\n",
        "    \"Shop1\": 90,\n",
        "    \"Shop2\": 100,\n",
        "    \"Shop3\": 20,\n",
        "    \"Shop4\": 10\n",
        "}\n",
        "\n",
        "\n",
        "sales_sum = 0\n",
        "for i in sales:\n",
        "   sales_sum += sales[i]\n",
        "print(sales_sum)\n"
      ]
    },
    {
      "attachments": {},
      "cell_type": "markdown",
      "metadata": {
        "id": "wM2s47M_rFfM"
      },
      "source": [
        "### 3.2 While"
      ]
    },
    {
      "cell_type": "code",
      "execution_count": 55,
      "metadata": {
        "colab": {
          "base_uri": "https://localhost:8080/"
        },
        "id": "onAlT-RnrFfM",
        "outputId": "6e8fb223-1307-4a1a-feee-2f00186ea72f"
      },
      "outputs": [
        {
          "name": "stdout",
          "output_type": "stream",
          "text": [
            "1\n",
            "2\n",
            "3\n",
            "4\n",
            "5\n"
          ]
        }
      ],
      "source": [
        "count = 0\n",
        "while count < 5:\n",
        "    count += 1     \n",
        "    print(count)\n"
      ]
    },
    {
      "cell_type": "markdown",
      "metadata": {
        "id": "IHWWb3jZrFfM"
      },
      "source": []
    },
    {
      "cell_type": "markdown",
      "metadata": {
        "id": "sHXuXBWrrFfN"
      },
      "source": [
        "## 4. If...Else"
      ]
    },
    {
      "cell_type": "code",
      "execution_count": 57,
      "metadata": {
        "id": "AQX3DSACrFfN",
        "outputId": "6dec0d6e-ca6d-457c-9afd-13b05548afa3"
      },
      "outputs": [
        {
          "name": "stdout",
          "output_type": "stream",
          "text": [
            "a > b\n"
          ]
        }
      ],
      "source": [
        "a = 10\n",
        "b = 5\n",
        "if a > b:\n",
        "    print(\"a > b\")"
      ]
    },
    {
      "cell_type": "code",
      "execution_count": 58,
      "metadata": {
        "id": "CmSpuuE1rFfN",
        "outputId": "24ee2334-612e-4065-da17-a0940f4a69c5"
      },
      "outputs": [
        {
          "name": "stdout",
          "output_type": "stream",
          "text": [
            "This code is running\n"
          ]
        }
      ],
      "source": [
        "a = 3\n",
        "b = 5\n",
        "if a > b:\n",
        "    print(\"This code is NOT running\")\n",
        "print(\"This code is running\")"
      ]
    },
    {
      "cell_type": "code",
      "execution_count": null,
      "metadata": {
        "id": "wwhBLzYbrFfN"
      },
      "outputs": [],
      "source": []
    },
    {
      "cell_type": "markdown",
      "metadata": {
        "id": "Dmr4huCErFfN"
      },
      "source": [
        "## 5. Functions"
      ]
    },
    {
      "cell_type": "markdown",
      "metadata": {
        "id": "T223L5jFrFfN"
      },
      "source": [
        "## 6. Class"
      ]
    }
  ],
  "metadata": {
    "colab": {
      "collapsed_sections": [
        "J_r1NZV9rFfH",
        "Mt4L6YC0rFfH",
        "6NlclzUmrFfI",
        "er-UCYFPrFfJ",
        "joBrmiAdrFfJ",
        "wM2s47M_rFfM"
      ],
      "provenance": []
    },
    "kernelspec": {
      "display_name": "Python 3",
      "language": "python",
      "name": "python3"
    },
    "language_info": {
      "codemirror_mode": {
        "name": "ipython",
        "version": 3
      },
      "file_extension": ".py",
      "mimetype": "text/x-python",
      "name": "python",
      "nbconvert_exporter": "python",
      "pygments_lexer": "ipython3",
      "version": "3.11.2"
    },
    "orig_nbformat": 4,
    "vscode": {
      "interpreter": {
        "hash": "a69d944775ba1de5e6a08ded78961db953ada52bcbe9f8a0a8fe0ff5032a8cab"
      }
    }
  },
  "nbformat": 4,
  "nbformat_minor": 0
}
