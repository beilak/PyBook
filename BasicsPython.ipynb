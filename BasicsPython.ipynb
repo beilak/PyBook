{
 "cells": [
  {
   "attachments": {},
   "cell_type": "markdown",
   "metadata": {},
   "source": [
    "# Basics Python"
   ]
  },
  {
   "attachments": {},
   "cell_type": "markdown",
   "metadata": {},
   "source": [
    "## Variables"
   ]
  },
  {
   "attachments": {},
   "cell_type": "markdown",
   "metadata": {},
   "source": [
    "### Int"
   ]
  },
  {
   "cell_type": "code",
   "execution_count": 3,
   "metadata": {},
   "outputs": [],
   "source": [
    "# int\n",
    "i1 = 1\n",
    "i2 = 10\n",
    "i3 = -1000\n",
    "i4 = int(1000)\n"
   ]
  },
  {
   "cell_type": "code",
   "execution_count": null,
   "metadata": {},
   "outputs": [],
   "source": [
    "print(f\"{i1 = }\")\n",
    "print(f\"{i2 = }\")"
   ]
  },
  {
   "attachments": {},
   "cell_type": "markdown",
   "metadata": {},
   "source": [
    "### Float"
   ]
  },
  {
   "cell_type": "code",
   "execution_count": null,
   "metadata": {},
   "outputs": [],
   "source": [
    "# float\n",
    "f1 = 10.10\n",
    "f2 = 0.000001\n",
    "f3 = float(10)"
   ]
  },
  {
   "cell_type": "code",
   "execution_count": 5,
   "metadata": {},
   "outputs": [
    {
     "name": "stdout",
     "output_type": "stream",
     "text": [
      "i1 = 1\n",
      "i2 = 10\n",
      "f1 = 10.1\n",
      "f2 = 1e-06\n",
      "f3 = 10.0\n"
     ]
    }
   ],
   "source": [
    "print(f\"{f1 = }\")\n",
    "print(f\"{f2 = }\")\n",
    "print(f\"{f3 = }\")"
   ]
  },
  {
   "attachments": {},
   "cell_type": "markdown",
   "metadata": {},
   "source": [
    "### String"
   ]
  },
  {
   "cell_type": "code",
   "execution_count": 6,
   "metadata": {},
   "outputs": [],
   "source": [
    "s1 = \"My Text\"\n",
    "s2 = 'It is text'\n",
    "s3 = f\"my text with {i1}\"\n",
    "s4 = f\"type ===>>> {type(s1)}\""
   ]
  },
  {
   "cell_type": "code",
   "execution_count": 7,
   "metadata": {},
   "outputs": [
    {
     "name": "stdout",
     "output_type": "stream",
     "text": [
      "s1 = 'My Text'\n",
      "s2 = 'It is text'\n",
      "s3 = 'my text with 1'\n",
      "s4 = \"type ===>>> <class 'str'>\"\n"
     ]
    }
   ],
   "source": [
    "print(f\"{s1 = }\")\n",
    "print(f\"{s2 = }\")\n",
    "print(f\"{s3 = }\")\n",
    "print(f\"{s4 = }\")"
   ]
  },
  {
   "attachments": {},
   "cell_type": "markdown",
   "metadata": {},
   "source": [
    "### List"
   ]
  },
  {
   "cell_type": "code",
   "execution_count": 10,
   "metadata": {},
   "outputs": [],
   "source": [
    "my_list1 = [1, 2, 3, 4, 5]\n",
    "my_list2 = [\"A\", \"B\", \"C\"]\n",
    "my_list3 = [\"A\", \"B\", 1, 2, 3, 4, 5]"
   ]
  },
  {
   "cell_type": "code",
   "execution_count": 11,
   "metadata": {},
   "outputs": [
    {
     "name": "stdout",
     "output_type": "stream",
     "text": [
      "my_list1 = [1, 2, 3, 4, 5]\n",
      "my_list2 = ['A', 'B', 'C']\n",
      "my_list3 = ['A', 'B', 1, 2, 3, 4, 5]\n"
     ]
    }
   ],
   "source": [
    "print(f\"{my_list1 = }\")\n",
    "print(f\"{my_list2 = }\")\n",
    "print(f\"{my_list3 = }\")"
   ]
  },
  {
   "attachments": {},
   "cell_type": "markdown",
   "metadata": {},
   "source": [
    "### Set"
   ]
  },
  {
   "cell_type": "code",
   "execution_count": 12,
   "metadata": {},
   "outputs": [],
   "source": [
    "my_set1 = {1, 2, 3, 4, 5}\n",
    "my_set2 = {'A', 'B', 'C'}\n",
    "my_set3 = {1, 2, 3, 'A', 'B', 'C'}\n",
    "my_set4 = {1, 'A', 3, 'B', 'C', 10.24}"
   ]
  },
  {
   "cell_type": "code",
   "execution_count": 13,
   "metadata": {},
   "outputs": [
    {
     "name": "stdout",
     "output_type": "stream",
     "text": [
      "my_set1 = {1, 2, 3, 4, 5}\n",
      "my_set2 = {'B', 'C', 'A'}\n",
      "my_set3 = {1, 2, 3, 'B', 'A', 'C'}\n",
      "my_set4 = {1, 'B', 3, 'A', 10.24, 'C'}\n"
     ]
    }
   ],
   "source": [
    "print(f\"{my_set1 = }\")\n",
    "print(f\"{my_set2 = }\")\n",
    "print(f\"{my_set3 = }\")\n",
    "print(f\"{my_set4 = }\")"
   ]
  },
  {
   "attachments": {},
   "cell_type": "markdown",
   "metadata": {},
   "source": [
    "### Dict"
   ]
  },
  {
   "cell_type": "code",
   "execution_count": 14,
   "metadata": {},
   "outputs": [],
   "source": [
    "my_dict = {\n",
    "    \"a\": 1,\n",
    "    \"b\": 2,\n",
    "    \"c\": 3,\n",
    "    \"d\": 100000.009,\n",
    "}"
   ]
  },
  {
   "cell_type": "code",
   "execution_count": 15,
   "metadata": {},
   "outputs": [
    {
     "name": "stdout",
     "output_type": "stream",
     "text": [
      " my_dict = {'a': 1, 'b': 2, 'c': 3, 'd': 100000.009}\n"
     ]
    }
   ],
   "source": [
    "print(f\"{ my_dict = }\")"
   ]
  },
  {
   "attachments": {},
   "cell_type": "markdown",
   "metadata": {},
   "source": [
    "## Operations"
   ]
  },
  {
   "cell_type": "code",
   "execution_count": 38,
   "metadata": {},
   "outputs": [
    {
     "data": {
      "text/plain": [
       "30"
      ]
     },
     "execution_count": 38,
     "metadata": {},
     "output_type": "execute_result"
    }
   ],
   "source": [
    "i1 = 10 \n",
    "i2 = 20\n",
    "sum_2_ints = i1 + i2\n",
    "sum_2_ints"
   ]
  },
  {
   "cell_type": "code",
   "execution_count": 39,
   "metadata": {},
   "outputs": [
    {
     "data": {
      "text/plain": [
       "15.0"
      ]
     },
     "execution_count": 39,
     "metadata": {},
     "output_type": "execute_result"
    }
   ],
   "source": [
    "sum_2_ints = sum_2_ints / 2\n",
    "sum_2_ints"
   ]
  },
  {
   "cell_type": "code",
   "execution_count": 41,
   "metadata": {},
   "outputs": [
    {
     "data": {
      "text/plain": [
       "200"
      ]
     },
     "execution_count": 41,
     "metadata": {},
     "output_type": "execute_result"
    }
   ],
   "source": [
    "sum_2_ints = i1 * i2\n",
    "sum_2_ints"
   ]
  },
  {
   "cell_type": "code",
   "execution_count": 20,
   "metadata": {},
   "outputs": [
    {
     "data": {
      "text/plain": [
       "10.100000999999999"
      ]
     },
     "execution_count": 20,
     "metadata": {},
     "output_type": "execute_result"
    }
   ],
   "source": [
    "sum_floats = f1 + f2\n",
    "sum_floats"
   ]
  },
  {
   "cell_type": "code",
   "execution_count": 24,
   "metadata": {},
   "outputs": [
    {
     "data": {
      "text/plain": [
       "[1, 2, 3, 4, 3, 4, 5, 'X']"
      ]
     },
     "execution_count": 24,
     "metadata": {},
     "output_type": "execute_result"
    }
   ],
   "source": [
    "list_1 = [1, 2, 3, 4]\n",
    "list_2 = [3, 4, 5, \"X\"]\n",
    "sum_2_list = list_1 + list_2\n",
    "sum_2_list"
   ]
  },
  {
   "cell_type": "code",
   "execution_count": 35,
   "metadata": {},
   "outputs": [
    {
     "data": {
      "text/plain": [
       "{1, 2, 3, 4, 5, 6, 'A', 'B', 'C', 'D'}"
      ]
     },
     "execution_count": 35,
     "metadata": {},
     "output_type": "execute_result"
    }
   ],
   "source": [
    "set_1 = {\"A\", \"B\", \"C\", \"D\"}\n",
    "set_2 = {1, 2, 3, 4, 5, 6}\n",
    "new_set = set()\n",
    "new_set.update(set_1)\n",
    "new_set.update(set_2)\n",
    "new_set\n"
   ]
  },
  {
   "cell_type": "code",
   "execution_count": 36,
   "metadata": {},
   "outputs": [
    {
     "data": {
      "text/plain": [
       "{'a': 1, 'b': 2, 'c': 3, 'Name1': 1000, 'Name2': 2000, 'Name3': 3000}"
      ]
     },
     "execution_count": 36,
     "metadata": {},
     "output_type": "execute_result"
    }
   ],
   "source": [
    "dict_1 = {\n",
    "    \"a\" : 1,\n",
    "    \"b\" : 2,\n",
    "    \"c\" : 3,\n",
    "}\n",
    "\n",
    "dict_2 = {\n",
    "    \"Name1\": 1000,\n",
    "    \"Name2\": 2000,\n",
    "    \"Name3\": 3000,\n",
    "}\n",
    "\n",
    "new_dict = dict()\n",
    "\n",
    "new_dict.update(dict_1) \n",
    "new_dict.update(dict_2)\n",
    "new_dict"
   ]
  },
  {
   "attachments": {},
   "cell_type": "markdown",
   "metadata": {},
   "source": [
    "## Loops"
   ]
  },
  {
   "attachments": {},
   "cell_type": "markdown",
   "metadata": {},
   "source": [
    "### For"
   ]
  },
  {
   "cell_type": "code",
   "execution_count": 42,
   "metadata": {},
   "outputs": [
    {
     "name": "stdout",
     "output_type": "stream",
     "text": [
      "1\n",
      "2\n",
      "3\n",
      "A\n",
      "B\n",
      "C\n"
     ]
    }
   ],
   "source": [
    "my_list = [1, 2, 3, \"A\", \"B\", \"C\"]\n",
    "for i in my_list:\n",
    "    print(i)"
   ]
  },
  {
   "cell_type": "code",
   "execution_count": 45,
   "metadata": {},
   "outputs": [
    {
     "name": "stdout",
     "output_type": "stream",
     "text": [
      "21\n"
     ]
    }
   ],
   "source": [
    "my_list = [1, 2, 3, 4, 5, 6]\n",
    "sum_of_list = 0\n",
    "for i in my_list:\n",
    "    sum_of_list = sum_of_list + i\n",
    "print(sum_of_list)\n"
   ]
  },
  {
   "cell_type": "code",
   "execution_count": 47,
   "metadata": {},
   "outputs": [
    {
     "name": "stdout",
     "output_type": "stream",
     "text": [
      "S\n",
      "o\n",
      "m\n",
      "e\n",
      " \n",
      "t\n",
      "e\n",
      "x\n",
      "t\n"
     ]
    }
   ],
   "source": [
    "my_text = \"Some text\"\n",
    "for i in my_text:\n",
    "    print(i)"
   ]
  },
  {
   "attachments": {},
   "cell_type": "markdown",
   "metadata": {},
   "source": [
    "### While"
   ]
  },
  {
   "cell_type": "code",
   "execution_count": 48,
   "metadata": {},
   "outputs": [
    {
     "name": "stdout",
     "output_type": "stream",
     "text": [
      "1\n",
      "2\n",
      "3\n",
      "4\n",
      "5\n",
      "6\n",
      "7\n",
      "8\n",
      "9\n",
      "10\n"
     ]
    }
   ],
   "source": [
    "count = 0\n",
    "while count < 10:\n",
    "    count += 1      # it is ==>> count = count + 1\n",
    "    print(count)\n"
   ]
  }
 ],
 "metadata": {
  "kernelspec": {
   "display_name": "Python 3",
   "language": "python",
   "name": "python3"
  },
  "language_info": {
   "codemirror_mode": {
    "name": "ipython",
    "version": 3
   },
   "file_extension": ".py",
   "mimetype": "text/x-python",
   "name": "python",
   "nbconvert_exporter": "python",
   "pygments_lexer": "ipython3",
   "version": "3.11.2"
  },
  "orig_nbformat": 4,
  "vscode": {
   "interpreter": {
    "hash": "a69d944775ba1de5e6a08ded78961db953ada52bcbe9f8a0a8fe0ff5032a8cab"
   }
  }
 },
 "nbformat": 4,
 "nbformat_minor": 2
}
