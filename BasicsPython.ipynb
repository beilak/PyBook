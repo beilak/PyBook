{
  "cells": [
    {
      "cell_type": "markdown",
      "metadata": {
        "id": "aN-xtR_TrFfA"
      },
      "source": [
        "# Basics Python"
      ]
    },
    {
      "cell_type": "markdown",
      "metadata": {
        "id": "SmZryW6ErFfC"
      },
      "source": [
        "## 1. Variables"
      ]
    },
    {
      "cell_type": "markdown",
      "metadata": {
        "id": "NVrFoZ2HrFfC"
      },
      "source": [
        "### Int"
      ]
    },
    {
      "cell_type": "code",
      "execution_count": 1,
      "metadata": {
        "id": "MQuvLnN6rFfD"
      },
      "outputs": [],
      "source": [
        "# int\n",
        "i1 = 1\n",
        "i2 = 10\n",
        "i3 = -1000\n",
        "i4 = int(1000)\n",
        "i5 = int(\"1000\")\n"
      ]
    },
    {
      "cell_type": "code",
      "execution_count": 18,
      "metadata": {
        "colab": {
          "base_uri": "https://localhost:8080/"
        },
        "id": "VtC2i646rFfE",
        "outputId": "9bfee370-c795-41b3-90ec-530a61c07fdf"
      },
      "outputs": [
        {
          "output_type": "stream",
          "name": "stdout",
          "text": [
            "i1 = 1\n",
            "i2 = 10\n",
            "i5 = 1000\n"
          ]
        }
      ],
      "source": [
        "print(f\"{i1 = }\")\n",
        "print(f\"{i2 = }\")\n",
        "print(f\"{i5 = }\")\n"
      ]
    },
    {
      "cell_type": "markdown",
      "metadata": {
        "id": "sDMJftTNrFfE"
      },
      "source": [
        "### Float"
      ]
    },
    {
      "cell_type": "code",
      "execution_count": 11,
      "metadata": {
        "id": "xTqbThuarFfE"
      },
      "outputs": [],
      "source": [
        "# float\n",
        "f1 = 10.10\n",
        "f2 = 0.000001\n",
        "f3 = float(10)"
      ]
    },
    {
      "cell_type": "code",
      "execution_count": 19,
      "metadata": {
        "colab": {
          "base_uri": "https://localhost:8080/"
        },
        "id": "GsGS6diyrFfF",
        "outputId": "21e3f2e0-e1dd-4b32-fe49-19167a867365"
      },
      "outputs": [
        {
          "output_type": "stream",
          "name": "stdout",
          "text": [
            "f1 = 10.1\n",
            "f2 = 1e-06\n",
            "f3 = 10.0\n",
            "<class 'float'>\n"
          ]
        }
      ],
      "source": [
        "print(f\"{f1 = }\")\n",
        "print(f\"{f2 = }\")\n",
        "print(f\"{f3 = }\")\n"
      ]
    },
    {
      "cell_type": "markdown",
      "metadata": {
        "id": "4WPlARMhrFfG"
      },
      "source": [
        "### String"
      ]
    },
    {
      "cell_type": "code",
      "execution_count": 20,
      "metadata": {
        "id": "zQBHye3UrFfG"
      },
      "outputs": [],
      "source": [
        "s1 = \"My Text\"\n",
        "s2 = 'It is text'\n",
        "s3 = f\"my text with {i1}\"\n",
        "s4 = f\" {type(s1)}\""
      ]
    },
    {
      "cell_type": "code",
      "execution_count": 21,
      "metadata": {
        "colab": {
          "base_uri": "https://localhost:8080/"
        },
        "id": "nHo84hBWrFfG",
        "outputId": "811a85ab-d81e-428d-d30d-a11a6e20eb1b"
      },
      "outputs": [
        {
          "output_type": "stream",
          "name": "stdout",
          "text": [
            "s1 = 'My Text'\n",
            "s2 = 'It is text'\n",
            "s3 = 'my text with 1'\n",
            "s4 = \" <class 'str'>\"\n"
          ]
        }
      ],
      "source": [
        "print(f\"{s1 = }\")\n",
        "print(f\"{s2 = }\")\n",
        "print(f\"{s3 = }\")\n",
        "print(f\"{s4 = }\")"
      ]
    },
    {
      "cell_type": "markdown",
      "metadata": {
        "id": "J_r1NZV9rFfH"
      },
      "source": [
        "### List"
      ]
    },
    {
      "cell_type": "code",
      "execution_count": 33,
      "metadata": {
        "id": "uo0EelHXrFfH"
      },
      "outputs": [],
      "source": [
        "my_list1 = [1, 2, 3, 4, 5]\n",
        "my_list2 = [\"A\", \"B\", \"C\", my_list1]\n",
        "my_list3 = [\"A\", \"B\", 1, 2, 3, 4, 5, 9.0]"
      ]
    },
    {
      "cell_type": "code",
      "execution_count": 34,
      "metadata": {
        "colab": {
          "base_uri": "https://localhost:8080/"
        },
        "id": "hDipvCd4rFfH",
        "outputId": "81ea46ec-714a-4cb0-d280-713cc80311e8"
      },
      "outputs": [
        {
          "output_type": "stream",
          "name": "stdout",
          "text": [
            "my_list1 = [1, 2, 3, 4, 5]\n",
            "my_list2 = ['A', 'B', 'C', [1, 2, 3, 4, 5]]\n",
            "my_list3 = ['A', 'B', 1, 2, 3, 4, 5, 9.0]\n",
            "<class 'list'>\n"
          ]
        }
      ],
      "source": [
        "print(f\"{my_list1 = }\")\n",
        "print(f\"{my_list2 = }\")\n",
        "print(f\"{my_list3 = }\")\n",
        "print(type(my_list1))"
      ]
    },
    {
      "cell_type": "markdown",
      "metadata": {
        "id": "Mt4L6YC0rFfH"
      },
      "source": [
        "### Set"
      ]
    },
    {
      "cell_type": "code",
      "execution_count": 37,
      "metadata": {
        "id": "ODdHTMZnrFfH"
      },
      "outputs": [],
      "source": [
        "my_set1 = {1, 2, 3, 4, 5, 5, 5, 5, 5}\n",
        "my_set2 = {'A', 'B', 'C'}\n",
        "my_set3 = {1, 2, 3, 'A', 'B', 'C'}\n",
        "my_set4 = {1, 'A', 3, 'B', 'C', 10.24}"
      ]
    },
    {
      "cell_type": "code",
      "execution_count": 38,
      "metadata": {
        "colab": {
          "base_uri": "https://localhost:8080/"
        },
        "id": "Bk9Ez0f6rFfI",
        "outputId": "4a55890d-4523-42be-a549-1b1ca0b67fca"
      },
      "outputs": [
        {
          "output_type": "stream",
          "name": "stdout",
          "text": [
            "my_set1 = {1, 2, 3, 4, 5}\n",
            "my_set2 = {'C', 'A', 'B'}\n",
            "my_set3 = {1, 2, 'B', 3, 'A', 'C'}\n",
            "my_set4 = {1, 'B', 3, 'A', 10.24, 'C'}\n"
          ]
        }
      ],
      "source": [
        "print(f\"{my_set1 = }\")\n",
        "print(f\"{my_set2 = }\")\n",
        "print(f\"{my_set3 = }\")\n",
        "print(f\"{my_set4 = }\")"
      ]
    },
    {
      "cell_type": "markdown",
      "metadata": {
        "id": "6NlclzUmrFfI"
      },
      "source": [
        "### Tuple"
      ]
    },
    {
      "cell_type": "code",
      "execution_count": 42,
      "metadata": {
        "id": "jWxhgjEYrFfI"
      },
      "outputs": [],
      "source": [
        "my_tuple = (1, 2, \"A\", \"B\", \"C\", 1)\n",
        "my_tuple_1 = 1, 2, \"A\", 1"
      ]
    },
    {
      "cell_type": "code",
      "execution_count": 44,
      "metadata": {
        "colab": {
          "base_uri": "https://localhost:8080/"
        },
        "id": "cQWndoiHrFfI",
        "outputId": "0b42326a-ba78-4078-f76a-ade7f00c222f"
      },
      "outputs": [
        {
          "output_type": "stream",
          "name": "stdout",
          "text": [
            "<class 'tuple'>\n",
            " my_tuple = (1, 2, 'A', 'B', 'C', 1)\n",
            " my_tuple_1 = (1, 2, 'A', 1)\n"
          ]
        }
      ],
      "source": [
        "print(type(my_tuple))\n",
        "print(f\"{ my_tuple = }\")\n",
        "print(f\"{ my_tuple_1 = }\")"
      ]
    },
    {
      "cell_type": "markdown",
      "metadata": {
        "id": "er-UCYFPrFfJ"
      },
      "source": [
        "### Dict"
      ]
    },
    {
      "cell_type": "code",
      "execution_count": 50,
      "metadata": {
        "id": "Y3NuiGqqrFfJ"
      },
      "outputs": [],
      "source": [
        "my_dict = {\n",
        "    \"a\": 1,\n",
        "    \"b\": 2,\n",
        "    \"c\": 3,\n",
        "    \"d\": 100000.009,\n",
        "    \"Name\": \"+70-0000-0000\"    \n",
        "}"
      ]
    },
    {
      "cell_type": "code",
      "execution_count": 51,
      "metadata": {
        "colab": {
          "base_uri": "https://localhost:8080/"
        },
        "id": "i-_skZQXrFfJ",
        "outputId": "a995a5ff-446a-4071-bf5d-24f21c626150"
      },
      "outputs": [
        {
          "output_type": "stream",
          "name": "stdout",
          "text": [
            " my_dict = {'a': 1, 'b': 2, 'c': 3, 'd': 100000.009, 'Name': '+70-0000-0000'}\n",
            "3\n"
          ]
        }
      ],
      "source": [
        "print(f\"{ my_dict = }\")\n",
        "\n",
        "print(my_dict[\"c\"])"
      ]
    },
    {
      "cell_type": "code",
      "source": [
        "sales = {\n",
        "    \"Shop1\": 90,\n",
        "    \"Shop2\": 100,\n",
        "    \"Shop3\": 20,\n",
        "    \"Shop4\": 10,\n",
        "}"
      ],
      "metadata": {
        "id": "V5Pip0eo6H74"
      },
      "execution_count": 52,
      "outputs": []
    },
    {
      "cell_type": "code",
      "source": [
        "sales[\"Shop2\"]"
      ],
      "metadata": {
        "colab": {
          "base_uri": "https://localhost:8080/"
        },
        "id": "-XLvR4bj6Vz4",
        "outputId": "e0f72b5a-2361-4b0a-e90a-73239976fcc0"
      },
      "execution_count": 55,
      "outputs": [
        {
          "output_type": "execute_result",
          "data": {
            "text/plain": [
              "100"
            ]
          },
          "metadata": {},
          "execution_count": 55
        }
      ]
    },
    {
      "cell_type": "markdown",
      "metadata": {
        "id": "joBrmiAdrFfJ"
      },
      "source": [
        "## 2. Operations"
      ]
    },
    {
      "cell_type": "code",
      "execution_count": 63,
      "metadata": {
        "colab": {
          "base_uri": "https://localhost:8080/"
        },
        "id": "6D6SPNTDrFfJ",
        "outputId": "62d09989-5c67-413f-f764-db75732798c0"
      },
      "outputs": [
        {
          "output_type": "execute_result",
          "data": {
            "text/plain": [
              "100"
            ]
          },
          "metadata": {},
          "execution_count": 63
        }
      ],
      "source": [
        "i1 = 90 \n",
        "i2 = 10\n",
        "sum_2_ints = i1 + i2\n",
        "sum_2_ints"
      ]
    },
    {
      "cell_type": "code",
      "execution_count": 64,
      "metadata": {
        "colab": {
          "base_uri": "https://localhost:8080/"
        },
        "id": "qJUCDT_OrFfK",
        "outputId": "5020a89a-bb6f-4738-a10e-eacf1d1db215"
      },
      "outputs": [
        {
          "output_type": "execute_result",
          "data": {
            "text/plain": [
              "50.0"
            ]
          },
          "metadata": {},
          "execution_count": 64
        }
      ],
      "source": [
        "sum_2_ints = sum_2_ints / 2\n",
        "sum_2_ints"
      ]
    },
    {
      "cell_type": "code",
      "source": [
        "sum_2_ints"
      ],
      "metadata": {
        "colab": {
          "base_uri": "https://localhost:8080/"
        },
        "id": "XnxMBUYv8xAB",
        "outputId": "9ff1771a-6b14-478c-dce3-3667f8a49d46"
      },
      "execution_count": 65,
      "outputs": [
        {
          "output_type": "execute_result",
          "data": {
            "text/plain": [
              "50.0"
            ]
          },
          "metadata": {},
          "execution_count": 65
        }
      ]
    },
    {
      "cell_type": "code",
      "source": [
        "sum_2_ints /= 2"
      ],
      "metadata": {
        "colab": {
          "base_uri": "https://localhost:8080/"
        },
        "id": "IQ_Abe7I8kOK",
        "outputId": "abffec9c-5078-470f-acd6-e96a794aa6b5"
      },
      "execution_count": 97,
      "outputs": [
        {
          "output_type": "execute_result",
          "data": {
            "text/plain": [
              "1.1920928955078125e-05"
            ]
          },
          "metadata": {},
          "execution_count": 97
        }
      ]
    },
    {
      "cell_type": "code",
      "source": [
        "sum_2_ints"
      ],
      "metadata": {
        "colab": {
          "base_uri": "https://localhost:8080/"
        },
        "id": "ggocj3uI80LK",
        "outputId": "0c1613e6-e182-4b48-a88b-4f779311eb97"
      },
      "execution_count": 85,
      "outputs": [
        {
          "output_type": "execute_result",
          "data": {
            "text/plain": [
              "0.048828125"
            ]
          },
          "metadata": {},
          "execution_count": 85
        }
      ]
    },
    {
      "cell_type": "code",
      "execution_count": 98,
      "metadata": {
        "colab": {
          "base_uri": "https://localhost:8080/"
        },
        "id": "jeHr0lOYrFfK",
        "outputId": "46b74a05-a3c0-4c57-fd60-64df36ece80f"
      },
      "outputs": [
        {
          "output_type": "execute_result",
          "data": {
            "text/plain": [
              "900"
            ]
          },
          "metadata": {},
          "execution_count": 98
        }
      ],
      "source": [
        "sum_2_ints = i1 * i2\n",
        "sum_2_ints"
      ]
    },
    {
      "cell_type": "code",
      "execution_count": 99,
      "metadata": {
        "colab": {
          "base_uri": "https://localhost:8080/"
        },
        "id": "VJbTmjF6rFfK",
        "outputId": "dd1c69ca-f85c-4823-8803-4804e91ef7b6"
      },
      "outputs": [
        {
          "output_type": "execute_result",
          "data": {
            "text/plain": [
              "10.100000999999999"
            ]
          },
          "metadata": {},
          "execution_count": 99
        }
      ],
      "source": [
        "sum_floats = f1 + f2\n",
        "sum_floats"
      ]
    },
    {
      "cell_type": "code",
      "execution_count": 109,
      "metadata": {
        "colab": {
          "base_uri": "https://localhost:8080/"
        },
        "id": "YA0iaT3frFfK",
        "outputId": "85ea4767-8c1b-4768-b948-705e8595ee28"
      },
      "outputs": [
        {
          "output_type": "stream",
          "name": "stdout",
          "text": [
            " sum_2_list = [1, 2, 3, 4, 3, 4, 5, 'X']\n"
          ]
        }
      ],
      "source": [
        "list_1 = [1, 2, 3, 4]\n",
        "list_2 = [3, 4, 5, \"X\"]\n",
        "sum_2_list = list_1 + list_2\n",
        "print(f\"{ sum_2_list = }\")"
      ]
    },
    {
      "cell_type": "code",
      "source": [
        "list_1 = [1, 2, 3, 4]\n",
        "\n",
        "print(f\"{list_1 = }\")\n",
        "\n",
        "list_1[0] = \"New34\"\n",
        "\n",
        "print(f\"{ list_1 = }\")\n"
      ],
      "metadata": {
        "colab": {
          "base_uri": "https://localhost:8080/"
        },
        "id": "YcBTrsc7AAWs",
        "outputId": "f81060da-d878-4c08-f638-3ad7a3d96555"
      },
      "execution_count": 110,
      "outputs": [
        {
          "output_type": "stream",
          "name": "stdout",
          "text": [
            "list_1 = [1, 2, 3, 4]\n",
            " list_1 = ['New34', 2, 3, 4]\n"
          ]
        }
      ]
    },
    {
      "cell_type": "code",
      "source": [
        "print(f\"{ list_1[2] = }\")"
      ],
      "metadata": {
        "colab": {
          "base_uri": "https://localhost:8080/"
        },
        "id": "n0VKInsxB33K",
        "outputId": "7275ab5d-e760-433c-b0c7-a7e4a48d4a9a"
      },
      "execution_count": 111,
      "outputs": [
        {
          "output_type": "stream",
          "name": "stdout",
          "text": [
            " list_1[2] = 3\n"
          ]
        }
      ]
    },
    {
      "cell_type": "code",
      "source": [
        "list_1[1] + list_1[2] + list_1[3]\n"
      ],
      "metadata": {
        "colab": {
          "base_uri": "https://localhost:8080/"
        },
        "id": "3xGvcNjfCIdt",
        "outputId": "6d914e97-ab2a-439a-f31a-7514f485e3f0"
      },
      "execution_count": 115,
      "outputs": [
        {
          "output_type": "execute_result",
          "data": {
            "text/plain": [
              "9"
            ]
          },
          "metadata": {},
          "execution_count": 115
        }
      ]
    },
    {
      "cell_type": "code",
      "execution_count": 121,
      "metadata": {
        "colab": {
          "base_uri": "https://localhost:8080/"
        },
        "id": "rOlb6AY0rFfL",
        "outputId": "bfd6a888-0d6e-4407-9546-79642a583f4e"
      },
      "outputs": [
        {
          "output_type": "stream",
          "name": "stdout",
          "text": [
            " new_set = {1, 2, 'B', 3, 4, 5, 6, 'A', 'C', 'D'}\n"
          ]
        }
      ],
      "source": [
        "set_1 = {\"A\", \"B\", \"C\", \"D\"}\n",
        "set_2 = {1, 2, 3, 4, 5, 6}\n",
        "\n",
        "new_set = set()\n",
        "\n",
        "new_set.update(set_1)\n",
        "new_set.update(set_2)\n",
        "\n",
        "\n",
        "print(f\"{ new_set = }\")\n"
      ]
    },
    {
      "cell_type": "code",
      "source": [
        "my_new_list = [1, 2, 3]\n",
        "my_new_tuple = (1, 2, 3)\n",
        "\n",
        "my_new_list[0] = 1234\n",
        "# my_new_tuple[0] = 1234    # NOT WORK!!!! It's TUPLE\n",
        "\n",
        "\n",
        "my_new_list"
      ],
      "metadata": {
        "colab": {
          "base_uri": "https://localhost:8080/"
        },
        "id": "LpvhlmoWEQbH",
        "outputId": "2beba5bf-73e1-4bd0-c5b5-ae87e380f274"
      },
      "execution_count": 128,
      "outputs": [
        {
          "output_type": "execute_result",
          "data": {
            "text/plain": [
              "[1234, 2, 3]"
            ]
          },
          "metadata": {},
          "execution_count": 128
        }
      ]
    },
    {
      "cell_type": "code",
      "execution_count": 136,
      "metadata": {
        "colab": {
          "base_uri": "https://localhost:8080/"
        },
        "id": "ZfskuPUjrFfL",
        "outputId": "e97d97e2-7f23-45de-b799-40eecad60986"
      },
      "outputs": [
        {
          "output_type": "execute_result",
          "data": {
            "text/plain": [
              "{'a': 1,\n",
              " 'b': 2,\n",
              " 'c': 3,\n",
              " 'd': 'MyText',\n",
              " 'e': 'Text_2',\n",
              " 'Name1': 1000,\n",
              " 'Name2': 2000,\n",
              " 'Name3': 3000}"
            ]
          },
          "metadata": {},
          "execution_count": 136
        }
      ],
      "source": [
        "dict_1 = {\n",
        "    \"a\" : 1,\n",
        "    \"b\" : 2,\n",
        "    \"c\" : 3,\n",
        "    \"d\": \"MyText\",\n",
        "    \"e\": \"Text_2\",\n",
        "}\n",
        "\n",
        "dict_2 = {\n",
        "    \"Name1\": 1000,\n",
        "    \"Name2\": 2000,\n",
        "    \"Name3\": 3000,\n",
        "}\n",
        "\n",
        "new_dict = dict()\n",
        "\n",
        "new_dict.update(dict_1) \n",
        "new_dict.update(dict_2)\n",
        "new_dict"
      ]
    },
    {
      "cell_type": "code",
      "source": [
        "new_dict[\"a\"] + new_dict[\"b\"]"
      ],
      "metadata": {
        "colab": {
          "base_uri": "https://localhost:8080/"
        },
        "id": "cepzZvr1GSCt",
        "outputId": "5d8132fc-c38c-4b58-d692-7e4100d9fdf7"
      },
      "execution_count": 132,
      "outputs": [
        {
          "output_type": "execute_result",
          "data": {
            "text/plain": [
              "3"
            ]
          },
          "metadata": {},
          "execution_count": 132
        }
      ]
    },
    {
      "cell_type": "code",
      "source": [
        "new_dict[\"d\"] + new_dict[\"e\"]"
      ],
      "metadata": {
        "colab": {
          "base_uri": "https://localhost:8080/",
          "height": 35
        },
        "id": "gmB0dz-0GcDG",
        "outputId": "a4b3f413-3801-4ca7-b8c6-5403786b7760"
      },
      "execution_count": 143,
      "outputs": [
        {
          "output_type": "execute_result",
          "data": {
            "text/plain": [
              "'MyTextText_2'"
            ],
            "application/vnd.google.colaboratory.intrinsic+json": {
              "type": "string"
            }
          },
          "metadata": {},
          "execution_count": 143
        }
      ]
    },
    {
      "cell_type": "code",
      "source": [
        "my_new_text = \"Some text 1234567\""
      ],
      "metadata": {
        "id": "lO1k8aG5HL9N"
      },
      "execution_count": 158,
      "outputs": []
    },
    {
      "cell_type": "code",
      "source": [
        "my_new_text"
      ],
      "metadata": {
        "colab": {
          "base_uri": "https://localhost:8080/",
          "height": 35
        },
        "id": "XAYCNu4uHPrj",
        "outputId": "c394e1f1-f4f6-415d-9081-8732ae76fa83"
      },
      "execution_count": 159,
      "outputs": [
        {
          "output_type": "execute_result",
          "data": {
            "text/plain": [
              "'Some text 1234567'"
            ],
            "application/vnd.google.colaboratory.intrinsic+json": {
              "type": "string"
            }
          },
          "metadata": {},
          "execution_count": 159
        }
      ]
    },
    {
      "cell_type": "code",
      "source": [
        "my_new_text[3:7]"
      ],
      "metadata": {
        "colab": {
          "base_uri": "https://localhost:8080/",
          "height": 35
        },
        "id": "guQ4PISqH6xC",
        "outputId": "73c23259-d4eb-4433-cb62-91f36add8789"
      },
      "execution_count": 160,
      "outputs": [
        {
          "output_type": "execute_result",
          "data": {
            "text/plain": [
              "'e te'"
            ],
            "application/vnd.google.colaboratory.intrinsic+json": {
              "type": "string"
            }
          },
          "metadata": {},
          "execution_count": 160
        }
      ]
    },
    {
      "cell_type": "code",
      "source": [
        "my_new_text[0:-3]"
      ],
      "metadata": {
        "colab": {
          "base_uri": "https://localhost:8080/",
          "height": 35
        },
        "id": "m9h_zDZkH9vB",
        "outputId": "28e65dc7-8fb3-4612-d33b-e8caf253cb0c"
      },
      "execution_count": 161,
      "outputs": [
        {
          "output_type": "execute_result",
          "data": {
            "text/plain": [
              "'Some text 1234'"
            ],
            "application/vnd.google.colaboratory.intrinsic+json": {
              "type": "string"
            }
          },
          "metadata": {},
          "execution_count": 161
        }
      ]
    },
    {
      "cell_type": "code",
      "source": [
        "my_new_text[::-1]"
      ],
      "metadata": {
        "colab": {
          "base_uri": "https://localhost:8080/",
          "height": 35
        },
        "id": "DcAm43soHQ4v",
        "outputId": "b508f146-6181-42d7-e05a-9e97bfb05f24"
      },
      "execution_count": 162,
      "outputs": [
        {
          "output_type": "execute_result",
          "data": {
            "text/plain": [
              "'7654321 txet emoS'"
            ],
            "application/vnd.google.colaboratory.intrinsic+json": {
              "type": "string"
            }
          },
          "metadata": {},
          "execution_count": 162
        }
      ]
    },
    {
      "cell_type": "markdown",
      "metadata": {
        "id": "ITB_HWYBrFfL"
      },
      "source": [
        "## 3. Loops"
      ]
    },
    {
      "cell_type": "markdown",
      "metadata": {
        "id": "zmF0cvAerFfL"
      },
      "source": [
        "### For"
      ]
    },
    {
      "cell_type": "code",
      "execution_count": 166,
      "metadata": {
        "colab": {
          "base_uri": "https://localhost:8080/"
        },
        "id": "ItH3pwXhrFfL",
        "outputId": "f973cb42-c016-47c6-ca38-f7f7c222d181"
      },
      "outputs": [
        {
          "output_type": "stream",
          "name": "stdout",
          "text": [
            "1\n",
            "2\n",
            "3\n",
            "A\n",
            "B\n",
            "C\n"
          ]
        }
      ],
      "source": [
        "my_list = [1, 2, 3, \"A\", \"B\", \"C\"]\n",
        "for i in my_list:\n",
        "    print(i)"
      ]
    },
    {
      "cell_type": "code",
      "execution_count": 168,
      "metadata": {
        "colab": {
          "base_uri": "https://localhost:8080/"
        },
        "id": "yvgDO4oFrFfM",
        "outputId": "4b84aaa2-5486-455a-ebf8-bd56e2130f68"
      },
      "outputs": [
        {
          "output_type": "stream",
          "name": "stdout",
          "text": [
            "21\n"
          ]
        }
      ],
      "source": [
        "my_list = [1, 2, 3, 4, 5, 6]\n",
        "sum_of_list = 0\n",
        "for i in my_list:\n",
        "    sum_of_list = sum_of_list + i\n",
        "print(sum_of_list)\n"
      ]
    },
    {
      "cell_type": "code",
      "execution_count": 170,
      "metadata": {
        "colab": {
          "base_uri": "https://localhost:8080/"
        },
        "id": "wedG-rahrFfM",
        "outputId": "d0410ec1-c808-4d3c-f42b-8394a9dbd6c7"
      },
      "outputs": [
        {
          "output_type": "stream",
          "name": "stdout",
          "text": [
            "S\n",
            "o\n",
            "m\n",
            "e\n",
            " \n",
            "t\n",
            "e\n",
            "x\n",
            "t\n"
          ]
        }
      ],
      "source": [
        "my_text = \"Some text\"\n",
        "for i in my_text:\n",
        "    print(i)"
      ]
    },
    {
      "cell_type": "code",
      "source": [
        "my_new_d1 = {\n",
        "    \"a1\": 2,\n",
        "    \"a2\": 100, \n",
        "    \"a3\": 9000,\n",
        "}\n",
        "\n",
        "# my_new_d1[\"a1\"] + my_new_d1[\"a2\"] + my_new_d1[\"a3\"]\n",
        "\n",
        "my_summ = 0\n",
        "for i in my_new_d1:\n",
        "   my_summ += my_new_d1[i]      # my_summ = my_summ + my_new_d1[i]\n",
        "print(my_summ)\n"
      ],
      "metadata": {
        "colab": {
          "base_uri": "https://localhost:8080/"
        },
        "id": "cbmvO-dZMIlE",
        "outputId": "ca3e480b-89f8-4a98-d651-7c09599eab8e"
      },
      "execution_count": 181,
      "outputs": [
        {
          "output_type": "stream",
          "name": "stdout",
          "text": [
            "9102\n"
          ]
        }
      ]
    },
    {
      "cell_type": "markdown",
      "metadata": {
        "id": "wM2s47M_rFfM"
      },
      "source": [
        "### While"
      ]
    },
    {
      "cell_type": "code",
      "execution_count": 183,
      "metadata": {
        "colab": {
          "base_uri": "https://localhost:8080/"
        },
        "id": "onAlT-RnrFfM",
        "outputId": "6e8fb223-1307-4a1a-feee-2f00186ea72f"
      },
      "outputs": [
        {
          "output_type": "stream",
          "name": "stdout",
          "text": [
            "1\n",
            "2\n",
            "3\n",
            "4\n",
            "5\n",
            "6\n",
            "7\n",
            "8\n",
            "9\n",
            "10\n"
          ]
        }
      ],
      "source": [
        "count = 0\n",
        "while count < 10:\n",
        "    count += 1     \n",
        "    print(count)\n"
      ]
    },
    {
      "cell_type": "markdown",
      "metadata": {
        "id": "IHWWb3jZrFfM"
      },
      "source": []
    },
    {
      "cell_type": "markdown",
      "metadata": {
        "id": "sHXuXBWrrFfN"
      },
      "source": [
        "## 4. If...Else"
      ]
    },
    {
      "cell_type": "code",
      "execution_count": null,
      "metadata": {
        "id": "AQX3DSACrFfN",
        "outputId": "6dec0d6e-ca6d-457c-9afd-13b05548afa3"
      },
      "outputs": [
        {
          "name": "stdout",
          "output_type": "stream",
          "text": [
            "Result is ==>>> a > b\n"
          ]
        }
      ],
      "source": [
        "a = 10\n",
        "b = 5\n",
        "if a > b:\n",
        "    print(\"Result is ==>>> a > b\")"
      ]
    },
    {
      "cell_type": "code",
      "execution_count": null,
      "metadata": {
        "id": "CmSpuuE1rFfN",
        "outputId": "24ee2334-612e-4065-da17-a0940f4a69c5"
      },
      "outputs": [
        {
          "name": "stdout",
          "output_type": "stream",
          "text": [
            "This code is running\n"
          ]
        }
      ],
      "source": [
        "a = 3\n",
        "b = 5\n",
        "if a > b:\n",
        "    print(\"This code is NOT running\")\n",
        "print(\"This code is running\")"
      ]
    },
    {
      "cell_type": "code",
      "execution_count": null,
      "metadata": {
        "id": "wwhBLzYbrFfN"
      },
      "outputs": [],
      "source": []
    },
    {
      "cell_type": "markdown",
      "metadata": {
        "id": "Dmr4huCErFfN"
      },
      "source": [
        "## 5. Functions"
      ]
    },
    {
      "cell_type": "markdown",
      "metadata": {
        "id": "T223L5jFrFfN"
      },
      "source": [
        "## 6. Class"
      ]
    }
  ],
  "metadata": {
    "kernelspec": {
      "display_name": "Python 3",
      "language": "python",
      "name": "python3"
    },
    "language_info": {
      "codemirror_mode": {
        "name": "ipython",
        "version": 3
      },
      "file_extension": ".py",
      "mimetype": "text/x-python",
      "name": "python",
      "nbconvert_exporter": "python",
      "pygments_lexer": "ipython3",
      "version": "3.11.2"
    },
    "orig_nbformat": 4,
    "vscode": {
      "interpreter": {
        "hash": "a69d944775ba1de5e6a08ded78961db953ada52bcbe9f8a0a8fe0ff5032a8cab"
      }
    },
    "colab": {
      "provenance": [],
      "collapsed_sections": [
        "J_r1NZV9rFfH",
        "Mt4L6YC0rFfH",
        "6NlclzUmrFfI",
        "er-UCYFPrFfJ",
        "joBrmiAdrFfJ",
        "wM2s47M_rFfM"
      ]
    }
  },
  "nbformat": 4,
  "nbformat_minor": 0
}