{
 "cells": [
  {
   "attachments": {},
   "cell_type": "markdown",
   "metadata": {},
   "source": [
    "# Basics Python"
   ]
  },
  {
   "attachments": {},
   "cell_type": "markdown",
   "metadata": {},
   "source": [
    "## Variables"
   ]
  },
  {
   "cell_type": "code",
   "execution_count": 2,
   "metadata": {},
   "outputs": [],
   "source": [
    "# int\n",
    "i1 = 1\n",
    "i2 = 10\n",
    "i3 = -1000\n",
    "i4 = int(1000)\n",
    "\n",
    "# float\n",
    "f1 = 10.10\n",
    "f2 = f'10'\n",
    "f3 = 0.000001\n",
    "f4 = float(10)\n"
   ]
  },
  {
   "cell_type": "code",
   "execution_count": 3,
   "metadata": {},
   "outputs": [
    {
     "name": "stdout",
     "output_type": "stream",
     "text": [
      "i1 = 1\n",
      "i2 = 10\n",
      "f1 = 10.1\n",
      "f2 = '10'\n",
      "f4 = 10.0\n"
     ]
    }
   ],
   "source": [
    "print(f\"{i1 = }\")\n",
    "print(f\"{i2 = }\")\n",
    "print(f\"{f1 = }\")\n",
    "print(f\"{f2 = }\")\n",
    "print(f\"{f4 = }\")"
   ]
  }
 ],
 "metadata": {
  "kernelspec": {
   "display_name": ".venv",
   "language": "python",
   "name": "python3"
  },
  "language_info": {
   "codemirror_mode": {
    "name": "ipython",
    "version": 3
   },
   "file_extension": ".py",
   "mimetype": "text/x-python",
   "name": "python",
   "nbconvert_exporter": "python",
   "pygments_lexer": "ipython3",
   "version": "3.11.2"
  },
  "orig_nbformat": 4,
  "vscode": {
   "interpreter": {
    "hash": "fcdff87b34286914edf3b979a19e4979a7fedf85c49a181c850a9e22753b5cc7"
   }
  }
 },
 "nbformat": 4,
 "nbformat_minor": 2
}
